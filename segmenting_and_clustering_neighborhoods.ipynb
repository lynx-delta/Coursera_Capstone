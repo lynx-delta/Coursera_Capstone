{
 "cells": [
  {
   "cell_type": "markdown",
   "metadata": {},
   "source": [
    "## Segmenting and Clustering Neighborhoods in Toronto"
   ]
  },
  {
   "cell_type": "code",
   "execution_count": 1,
   "metadata": {},
   "outputs": [],
   "source": [
    "import json\n",
    "\n",
    "import folium\n",
    "import matplotlib.cm as cm\n",
    "import matplotlib.colors as colors\n",
    "import matplotlib.pyplot as plt\n",
    "import numpy as np\n",
    "import pandas as pd\n",
    "import requests\n",
    "import seaborn as sns\n",
    "from bs4 import BeautifulSoup\n",
    "from geopy.geocoders import Nominatim\n",
    "from pandas.io.json import json_normalize\n",
    "from sklearn.cluster import KMeans"
   ]
  },
  {
   "cell_type": "markdown",
   "metadata": {},
   "source": [
    "### Data Acquisition and Cleaning"
   ]
  },
  {
   "cell_type": "markdown",
   "metadata": {},
   "source": [
    "Get the data from the Wikipedia website"
   ]
  },
  {
   "cell_type": "code",
   "execution_count": 3,
   "metadata": {},
   "outputs": [
    {
     "data": {
      "text/plain": [
       "200"
      ]
     },
     "execution_count": 3,
     "metadata": {},
     "output_type": "execute_result"
    }
   ],
   "source": [
    "page = requests.get(\"https://en.wikipedia.org/wiki/List_of_postal_codes_of_Canada:_M\")\n",
    "page.status_code"
   ]
  },
  {
   "cell_type": "code",
   "execution_count": 4,
   "metadata": {},
   "outputs": [
    {
     "data": {
      "text/plain": [
       "[[],\n",
       " ['M1A', 'Not assigned', 'Not assigned'],\n",
       " ['M2A', 'Not assigned', 'Not assigned'],\n",
       " ['M3A', 'North York', 'Parkwoods'],\n",
       " ['M4A', 'North York', 'Victoria Village']]"
      ]
     },
     "execution_count": 4,
     "metadata": {},
     "output_type": "execute_result"
    }
   ],
   "source": [
    "soup = BeautifulSoup(page.content, 'html.parser')\n",
    "\n",
    "table = soup.find('table', attrs={'class':'wikitable sortable'})\n",
    "table_body = table.find('tbody')\n",
    "\n",
    "data = []\n",
    "rows = table_body.find_all('tr')\n",
    "for row in rows:\n",
    "    cols = row.find_all('td')\n",
    "    cols = [elem.text.strip() for elem in cols]\n",
    "    data.append([elem for elem in cols if elem])\n",
    "    \n",
    "data[:5]"
   ]
  },
  {
   "cell_type": "markdown",
   "metadata": {},
   "source": [
    "Load the raw data into a pandas data frame"
   ]
  },
  {
   "cell_type": "code",
   "execution_count": 6,
   "metadata": {},
   "outputs": [
    {
     "data": {
      "text/html": [
       "<div>\n",
       "<style scoped>\n",
       "    .dataframe tbody tr th:only-of-type {\n",
       "        vertical-align: middle;\n",
       "    }\n",
       "\n",
       "    .dataframe tbody tr th {\n",
       "        vertical-align: top;\n",
       "    }\n",
       "\n",
       "    .dataframe thead th {\n",
       "        text-align: right;\n",
       "    }\n",
       "</style>\n",
       "<table border=\"1\" class=\"dataframe\">\n",
       "  <thead>\n",
       "    <tr style=\"text-align: right;\">\n",
       "      <th></th>\n",
       "      <th>PostalCode</th>\n",
       "      <th>Borough</th>\n",
       "      <th>Neighborhood</th>\n",
       "    </tr>\n",
       "  </thead>\n",
       "  <tbody>\n",
       "    <tr>\n",
       "      <th>0</th>\n",
       "      <td>M1A</td>\n",
       "      <td>Not assigned</td>\n",
       "      <td>Not assigned</td>\n",
       "    </tr>\n",
       "    <tr>\n",
       "      <th>1</th>\n",
       "      <td>M2A</td>\n",
       "      <td>Not assigned</td>\n",
       "      <td>Not assigned</td>\n",
       "    </tr>\n",
       "    <tr>\n",
       "      <th>2</th>\n",
       "      <td>M3A</td>\n",
       "      <td>North York</td>\n",
       "      <td>Parkwoods</td>\n",
       "    </tr>\n",
       "    <tr>\n",
       "      <th>3</th>\n",
       "      <td>M4A</td>\n",
       "      <td>North York</td>\n",
       "      <td>Victoria Village</td>\n",
       "    </tr>\n",
       "    <tr>\n",
       "      <th>4</th>\n",
       "      <td>M5A</td>\n",
       "      <td>Downtown Toronto</td>\n",
       "      <td>Regent Park, Harbourfront</td>\n",
       "    </tr>\n",
       "    <tr>\n",
       "      <th>5</th>\n",
       "      <td>M6A</td>\n",
       "      <td>North York</td>\n",
       "      <td>Lawrence Manor, Lawrence Heights</td>\n",
       "    </tr>\n",
       "    <tr>\n",
       "      <th>6</th>\n",
       "      <td>M7A</td>\n",
       "      <td>Downtown Toronto</td>\n",
       "      <td>Queen's Park, Ontario Provincial Government</td>\n",
       "    </tr>\n",
       "    <tr>\n",
       "      <th>7</th>\n",
       "      <td>M8A</td>\n",
       "      <td>Not assigned</td>\n",
       "      <td>Not assigned</td>\n",
       "    </tr>\n",
       "    <tr>\n",
       "      <th>8</th>\n",
       "      <td>M9A</td>\n",
       "      <td>Etobicoke</td>\n",
       "      <td>Islington Avenue, Humber Valley Village</td>\n",
       "    </tr>\n",
       "    <tr>\n",
       "      <th>9</th>\n",
       "      <td>M1B</td>\n",
       "      <td>Scarborough</td>\n",
       "      <td>Malvern, Rouge</td>\n",
       "    </tr>\n",
       "  </tbody>\n",
       "</table>\n",
       "</div>"
      ],
      "text/plain": [
       "  PostalCode           Borough                                 Neighborhood\n",
       "0        M1A      Not assigned                                 Not assigned\n",
       "1        M2A      Not assigned                                 Not assigned\n",
       "2        M3A        North York                                    Parkwoods\n",
       "3        M4A        North York                             Victoria Village\n",
       "4        M5A  Downtown Toronto                    Regent Park, Harbourfront\n",
       "5        M6A        North York             Lawrence Manor, Lawrence Heights\n",
       "6        M7A  Downtown Toronto  Queen's Park, Ontario Provincial Government\n",
       "7        M8A      Not assigned                                 Not assigned\n",
       "8        M9A         Etobicoke      Islington Avenue, Humber Valley Village\n",
       "9        M1B       Scarborough                               Malvern, Rouge"
      ]
     },
     "execution_count": 6,
     "metadata": {},
     "output_type": "execute_result"
    }
   ],
   "source": [
    "columns = ['PostalCode', 'Borough', 'Neighborhood']\n",
    "df_raw = pd.DataFrame(data[1:], columns=columns)\n",
    "df_raw.head(10)"
   ]
  },
  {
   "cell_type": "markdown",
   "metadata": {},
   "source": [
    "Clean the raw data and check for 'Not assigned' values"
   ]
  },
  {
   "cell_type": "code",
   "execution_count": 7,
   "metadata": {},
   "outputs": [
    {
     "data": {
      "text/plain": [
       "False    103\n",
       "Name: Neighborhood, dtype: int64"
      ]
     },
     "execution_count": 7,
     "metadata": {},
     "output_type": "execute_result"
    }
   ],
   "source": [
    "df = df_raw[df_raw['Borough'] != 'Not assigned'].reset_index(drop=True)\n",
    "(df['Neighborhood'] == 'Not assigned').value_counts()"
   ]
  },
  {
   "cell_type": "code",
   "execution_count": 8,
   "metadata": {},
   "outputs": [
    {
     "data": {
      "text/plain": [
       "(103, 3)"
      ]
     },
     "execution_count": 8,
     "metadata": {},
     "output_type": "execute_result"
    }
   ],
   "source": [
    "df.shape"
   ]
  },
  {
   "cell_type": "markdown",
   "metadata": {},
   "source": [
    "### Assignment of Latitude and Longitude Coordinates"
   ]
  },
  {
   "cell_type": "code",
   "execution_count": 9,
   "metadata": {},
   "outputs": [
    {
     "data": {
      "text/html": [
       "<div>\n",
       "<style scoped>\n",
       "    .dataframe tbody tr th:only-of-type {\n",
       "        vertical-align: middle;\n",
       "    }\n",
       "\n",
       "    .dataframe tbody tr th {\n",
       "        vertical-align: top;\n",
       "    }\n",
       "\n",
       "    .dataframe thead th {\n",
       "        text-align: right;\n",
       "    }\n",
       "</style>\n",
       "<table border=\"1\" class=\"dataframe\">\n",
       "  <thead>\n",
       "    <tr style=\"text-align: right;\">\n",
       "      <th></th>\n",
       "      <th>Postal Code</th>\n",
       "      <th>Latitude</th>\n",
       "      <th>Longitude</th>\n",
       "    </tr>\n",
       "  </thead>\n",
       "  <tbody>\n",
       "    <tr>\n",
       "      <th>0</th>\n",
       "      <td>M1B</td>\n",
       "      <td>43.806686</td>\n",
       "      <td>-79.194353</td>\n",
       "    </tr>\n",
       "    <tr>\n",
       "      <th>1</th>\n",
       "      <td>M1C</td>\n",
       "      <td>43.784535</td>\n",
       "      <td>-79.160497</td>\n",
       "    </tr>\n",
       "    <tr>\n",
       "      <th>2</th>\n",
       "      <td>M1E</td>\n",
       "      <td>43.763573</td>\n",
       "      <td>-79.188711</td>\n",
       "    </tr>\n",
       "    <tr>\n",
       "      <th>3</th>\n",
       "      <td>M1G</td>\n",
       "      <td>43.770992</td>\n",
       "      <td>-79.216917</td>\n",
       "    </tr>\n",
       "    <tr>\n",
       "      <th>4</th>\n",
       "      <td>M1H</td>\n",
       "      <td>43.773136</td>\n",
       "      <td>-79.239476</td>\n",
       "    </tr>\n",
       "  </tbody>\n",
       "</table>\n",
       "</div>"
      ],
      "text/plain": [
       "  Postal Code   Latitude  Longitude\n",
       "0         M1B  43.806686 -79.194353\n",
       "1         M1C  43.784535 -79.160497\n",
       "2         M1E  43.763573 -79.188711\n",
       "3         M1G  43.770992 -79.216917\n",
       "4         M1H  43.773136 -79.239476"
      ]
     },
     "execution_count": 9,
     "metadata": {},
     "output_type": "execute_result"
    }
   ],
   "source": [
    "df_coordinates = pd.read_csv('data/geospatial_coordinates.csv')\n",
    "df_coordinates.head(5)"
   ]
  },
  {
   "cell_type": "code",
   "execution_count": 10,
   "metadata": {},
   "outputs": [
    {
     "data": {
      "text/html": [
       "<div>\n",
       "<style scoped>\n",
       "    .dataframe tbody tr th:only-of-type {\n",
       "        vertical-align: middle;\n",
       "    }\n",
       "\n",
       "    .dataframe tbody tr th {\n",
       "        vertical-align: top;\n",
       "    }\n",
       "\n",
       "    .dataframe thead th {\n",
       "        text-align: right;\n",
       "    }\n",
       "</style>\n",
       "<table border=\"1\" class=\"dataframe\">\n",
       "  <thead>\n",
       "    <tr style=\"text-align: right;\">\n",
       "      <th></th>\n",
       "      <th>PostalCode</th>\n",
       "      <th>Latitude</th>\n",
       "      <th>Longitude</th>\n",
       "    </tr>\n",
       "  </thead>\n",
       "  <tbody>\n",
       "    <tr>\n",
       "      <th>0</th>\n",
       "      <td>M1B</td>\n",
       "      <td>43.806686</td>\n",
       "      <td>-79.194353</td>\n",
       "    </tr>\n",
       "  </tbody>\n",
       "</table>\n",
       "</div>"
      ],
      "text/plain": [
       "  PostalCode   Latitude  Longitude\n",
       "0        M1B  43.806686 -79.194353"
      ]
     },
     "execution_count": 10,
     "metadata": {},
     "output_type": "execute_result"
    }
   ],
   "source": [
    "df_coordinates.rename(columns={'Postal Code': 'PostalCode'}, inplace=True)\n",
    "df_coordinates.head(1)"
   ]
  },
  {
   "cell_type": "markdown",
   "metadata": {},
   "source": [
    "Join the data frames"
   ]
  },
  {
   "cell_type": "code",
   "execution_count": 11,
   "metadata": {},
   "outputs": [
    {
     "data": {
      "text/html": [
       "<div>\n",
       "<style scoped>\n",
       "    .dataframe tbody tr th:only-of-type {\n",
       "        vertical-align: middle;\n",
       "    }\n",
       "\n",
       "    .dataframe tbody tr th {\n",
       "        vertical-align: top;\n",
       "    }\n",
       "\n",
       "    .dataframe thead th {\n",
       "        text-align: right;\n",
       "    }\n",
       "</style>\n",
       "<table border=\"1\" class=\"dataframe\">\n",
       "  <thead>\n",
       "    <tr style=\"text-align: right;\">\n",
       "      <th></th>\n",
       "      <th>PostalCode</th>\n",
       "      <th>Borough</th>\n",
       "      <th>Neighborhood</th>\n",
       "      <th>Latitude</th>\n",
       "      <th>Longitude</th>\n",
       "    </tr>\n",
       "  </thead>\n",
       "  <tbody>\n",
       "    <tr>\n",
       "      <th>0</th>\n",
       "      <td>M3A</td>\n",
       "      <td>North York</td>\n",
       "      <td>Parkwoods</td>\n",
       "      <td>43.753259</td>\n",
       "      <td>-79.329656</td>\n",
       "    </tr>\n",
       "    <tr>\n",
       "      <th>1</th>\n",
       "      <td>M4A</td>\n",
       "      <td>North York</td>\n",
       "      <td>Victoria Village</td>\n",
       "      <td>43.725882</td>\n",
       "      <td>-79.315572</td>\n",
       "    </tr>\n",
       "    <tr>\n",
       "      <th>2</th>\n",
       "      <td>M5A</td>\n",
       "      <td>Downtown Toronto</td>\n",
       "      <td>Regent Park, Harbourfront</td>\n",
       "      <td>43.654260</td>\n",
       "      <td>-79.360636</td>\n",
       "    </tr>\n",
       "    <tr>\n",
       "      <th>3</th>\n",
       "      <td>M6A</td>\n",
       "      <td>North York</td>\n",
       "      <td>Lawrence Manor, Lawrence Heights</td>\n",
       "      <td>43.718518</td>\n",
       "      <td>-79.464763</td>\n",
       "    </tr>\n",
       "    <tr>\n",
       "      <th>4</th>\n",
       "      <td>M7A</td>\n",
       "      <td>Downtown Toronto</td>\n",
       "      <td>Queen's Park, Ontario Provincial Government</td>\n",
       "      <td>43.662301</td>\n",
       "      <td>-79.389494</td>\n",
       "    </tr>\n",
       "  </tbody>\n",
       "</table>\n",
       "</div>"
      ],
      "text/plain": [
       "  PostalCode           Borough                                 Neighborhood  \\\n",
       "0        M3A        North York                                    Parkwoods   \n",
       "1        M4A        North York                             Victoria Village   \n",
       "2        M5A  Downtown Toronto                    Regent Park, Harbourfront   \n",
       "3        M6A        North York             Lawrence Manor, Lawrence Heights   \n",
       "4        M7A  Downtown Toronto  Queen's Park, Ontario Provincial Government   \n",
       "\n",
       "    Latitude  Longitude  \n",
       "0  43.753259 -79.329656  \n",
       "1  43.725882 -79.315572  \n",
       "2  43.654260 -79.360636  \n",
       "3  43.718518 -79.464763  \n",
       "4  43.662301 -79.389494  "
      ]
     },
     "execution_count": 11,
     "metadata": {},
     "output_type": "execute_result"
    }
   ],
   "source": [
    "df_combined = pd.merge(df, df_coordinates, on='PostalCode')\n",
    "df_combined.head(5)"
   ]
  },
  {
   "cell_type": "code",
   "execution_count": 12,
   "metadata": {},
   "outputs": [
    {
     "data": {
      "text/plain": [
       "(103, 5)"
      ]
     },
     "execution_count": 12,
     "metadata": {},
     "output_type": "execute_result"
    }
   ],
   "source": [
    "df_combined.shape"
   ]
  },
  {
   "cell_type": "markdown",
   "metadata": {},
   "source": [
    "### Exploration and Clustering of Neighborhoods in Toronto"
   ]
  },
  {
   "cell_type": "markdown",
   "metadata": {},
   "source": [
    "Create a map of Toronto with neighborhoods superimposed on top"
   ]
  },
  {
   "cell_type": "code",
   "execution_count": 13,
   "metadata": {},
   "outputs": [
    {
     "name": "stdout",
     "output_type": "stream",
     "text": [
      "The geograpical coordinates of Toronto are 43.6534817, -79.3839347.\n"
     ]
    }
   ],
   "source": [
    "address = 'Toronto, CA'\n",
    "\n",
    "geolocator = Nominatim(user_agent=\"to_explorer\")\n",
    "location = geolocator.geocode(address)\n",
    "latitude = location.latitude\n",
    "longitude = location.longitude\n",
    "print(f'The geograpical coordinates of Toronto are {latitude}, {longitude}.')"
   ]
  },
  {
   "cell_type": "code",
   "execution_count": 14,
   "metadata": {},
   "outputs": [
    {
     "data": {
      "text/html": [
       "<div style=\"width:100%;\"><div style=\"position:relative;width:100%;height:0;padding-bottom:60%;\"><span style=\"color:#565656\">Make this Notebook Trusted to load map: File -> Trust Notebook</span><iframe src=\"about:blank\" style=\"position:absolute;width:100%;height:100%;left:0;top:0;border:none !important;\" data-html=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 onload=\"this.contentDocument.open();this.contentDocument.write(atob(this.getAttribute('data-html')));this.contentDocument.close();\" allowfullscreen webkitallowfullscreen mozallowfullscreen></iframe></div></div>"
      ],
      "text/plain": [
       "<folium.folium.Map at 0x7f4e85e5d070>"
      ]
     },
     "execution_count": 14,
     "metadata": {},
     "output_type": "execute_result"
    }
   ],
   "source": [
    "map_toronto = folium.Map(location=[latitude, longitude], zoom_start=10)\n",
    "\n",
    "# Add markers to map\n",
    "for lat, lng, borough, neighborhood in zip(df_combined['Latitude'], df_combined['Longitude'],\n",
    "                                           df_combined['Borough'], df_combined['Neighborhood']):\n",
    "    label = f'{latitude}, {longitude}'\n",
    "    label = folium.Popup(label, parse_html=True)\n",
    "    folium.CircleMarker(\n",
    "        [lat, lng],\n",
    "        radius=5,\n",
    "        popup=label,\n",
    "        color='blue',\n",
    "        fill=True,\n",
    "        fill_color='#3186cc',\n",
    "        fill_opacity=0.7,\n",
    "        parse_html=False).add_to(map_toronto)  \n",
    "    \n",
    "map_toronto"
   ]
  },
  {
   "cell_type": "markdown",
   "metadata": {},
   "source": [
    "Define Foursquare credentials and version"
   ]
  },
  {
   "cell_type": "code",
   "execution_count": 15,
   "metadata": {},
   "outputs": [],
   "source": [
    "CLIENT_ID = '*****'             # Foursquare ID\n",
    "CLIENT_SECRET = '*****'         # Foursquare Secret\n",
    "VERSION = '20180605'            # Foursquare API version\n",
    "LIMIT = 100"
   ]
  },
  {
   "cell_type": "markdown",
   "metadata": {},
   "source": [
    "Explore neighborhoods in Toronto"
   ]
  },
  {
   "cell_type": "code",
   "execution_count": 16,
   "metadata": {},
   "outputs": [],
   "source": [
    "def get_nearby_venues(names, latitudes, longitudes, radius=500):\n",
    "    \n",
    "    venues_list = []\n",
    "    for name, lat, lng in zip(names, latitudes, longitudes):\n",
    "            \n",
    "        # Create the API request URL\n",
    "        url = 'https://api.foursquare.com/v2/venues/explore?&client_id={}&client_secret={}&v={}&ll={},{}&radius={}&limit={}'.format(\n",
    "            CLIENT_ID, \n",
    "            CLIENT_SECRET, \n",
    "            VERSION, \n",
    "            lat, \n",
    "            lng, \n",
    "            radius, \n",
    "            LIMIT)\n",
    "            \n",
    "        # Make the GET request\n",
    "        results = requests.get(url).json()['response']['groups'][0]['items']\n",
    "        \n",
    "        # Return only relevant information for each nearby venue\n",
    "        venues_list.append([(\n",
    "            name, \n",
    "            lat, \n",
    "            lng, \n",
    "            v['venue']['name'], \n",
    "            v['venue']['location']['lat'], \n",
    "            v['venue']['location']['lng'],  \n",
    "            v['venue']['categories'][0]['name'],\n",
    "            )\n",
    "            for v in results\n",
    "            ])\n",
    "\n",
    "    nearby_venues = pd.DataFrame([item for venue_list in venues_list for item in venue_list])\n",
    "    nearby_venues.columns = [\n",
    "        'Neighborhood', \n",
    "        'Neighborhood Latitude', \n",
    "        'Neighborhood Longitude', \n",
    "        'Venue', \n",
    "        'Venue Latitude', \n",
    "        'Venue Longitude', \n",
    "        'Venue Category',\n",
    "        ]\n",
    "    \n",
    "    return nearby_venues"
   ]
  },
  {
   "cell_type": "code",
   "execution_count": 17,
   "metadata": {},
   "outputs": [
    {
     "ename": "KeyError",
     "evalue": "'groups'",
     "output_type": "error",
     "traceback": [
      "\u001b[0;31m---------------------------------------------------------------------------\u001b[0m",
      "\u001b[0;31mKeyError\u001b[0m                                  Traceback (most recent call last)",
      "\u001b[0;32m<ipython-input-17-43b4869ff5d6>\u001b[0m in \u001b[0;36m<module>\u001b[0;34m\u001b[0m\n\u001b[0;32m----> 1\u001b[0;31m toronto_venues = get_nearby_venues(names=df_combined['Neighborhood'],\n\u001b[0m\u001b[1;32m      2\u001b[0m                                    \u001b[0mlatitudes\u001b[0m\u001b[0;34m=\u001b[0m\u001b[0mdf_combined\u001b[0m\u001b[0;34m[\u001b[0m\u001b[0;34m'Latitude'\u001b[0m\u001b[0;34m]\u001b[0m\u001b[0;34m,\u001b[0m\u001b[0;34m\u001b[0m\u001b[0;34m\u001b[0m\u001b[0m\n\u001b[1;32m      3\u001b[0m                                    longitudes=df_combined['Longitude'])\n",
      "\u001b[0;32m<ipython-input-16-b589eaf9ff79>\u001b[0m in \u001b[0;36mget_nearby_venues\u001b[0;34m(names, latitudes, longitudes, radius)\u001b[0m\n\u001b[1;32m     15\u001b[0m \u001b[0;34m\u001b[0m\u001b[0m\n\u001b[1;32m     16\u001b[0m         \u001b[0;31m# Make the GET request\u001b[0m\u001b[0;34m\u001b[0m\u001b[0;34m\u001b[0m\u001b[0;34m\u001b[0m\u001b[0m\n\u001b[0;32m---> 17\u001b[0;31m         \u001b[0mresults\u001b[0m \u001b[0;34m=\u001b[0m \u001b[0mrequests\u001b[0m\u001b[0;34m.\u001b[0m\u001b[0mget\u001b[0m\u001b[0;34m(\u001b[0m\u001b[0murl\u001b[0m\u001b[0;34m)\u001b[0m\u001b[0;34m.\u001b[0m\u001b[0mjson\u001b[0m\u001b[0;34m(\u001b[0m\u001b[0;34m)\u001b[0m\u001b[0;34m[\u001b[0m\u001b[0;34m'response'\u001b[0m\u001b[0;34m]\u001b[0m\u001b[0;34m[\u001b[0m\u001b[0;34m'groups'\u001b[0m\u001b[0;34m]\u001b[0m\u001b[0;34m[\u001b[0m\u001b[0;36m0\u001b[0m\u001b[0;34m]\u001b[0m\u001b[0;34m[\u001b[0m\u001b[0;34m'items'\u001b[0m\u001b[0;34m]\u001b[0m\u001b[0;34m\u001b[0m\u001b[0;34m\u001b[0m\u001b[0m\n\u001b[0m\u001b[1;32m     18\u001b[0m \u001b[0;34m\u001b[0m\u001b[0m\n\u001b[1;32m     19\u001b[0m         \u001b[0;31m# Return only relevant information for each nearby venue\u001b[0m\u001b[0;34m\u001b[0m\u001b[0;34m\u001b[0m\u001b[0;34m\u001b[0m\u001b[0m\n",
      "\u001b[0;31mKeyError\u001b[0m: 'groups'"
     ]
    }
   ],
   "source": [
    "toronto_venues = get_nearby_venues(names=df_combined['Neighborhood'],\n",
    "                                   latitudes=df_combined['Latitude'],\n",
    "                                   longitudes=df_combined['Longitude'])"
   ]
  },
  {
   "cell_type": "code",
   "execution_count": null,
   "metadata": {},
   "outputs": [],
   "source": [
    "toronto_venues.head(10)"
   ]
  },
  {
   "cell_type": "markdown",
   "metadata": {},
   "source": [
    "Check how many venues were returned for each neighborhood"
   ]
  },
  {
   "cell_type": "code",
   "execution_count": null,
   "metadata": {},
   "outputs": [],
   "source": [
    "toronto_venues.groupby('Neighborhood')[['Venue']].count()"
   ]
  },
  {
   "cell_type": "markdown",
   "metadata": {},
   "source": [
    "Find out how many unique categories can be curated from all the returned venues"
   ]
  },
  {
   "cell_type": "code",
   "execution_count": null,
   "metadata": {},
   "outputs": [],
   "source": [
    "n_venues = len(toronto_venues['Venue Category'].unique())\n",
    "print(f'There are {n_venues} unique categories.')"
   ]
  },
  {
   "cell_type": "markdown",
   "metadata": {},
   "source": [
    "Prepare the data to analyze each neighborhood"
   ]
  },
  {
   "cell_type": "code",
   "execution_count": null,
   "metadata": {},
   "outputs": [],
   "source": [
    "# One hot encoding\n",
    "toronto_dummies = pd.get_dummies(toronto_venues['Venue Category'], prefix='_', prefix_sep='')\n",
    "\n",
    "# Add neighborhood column back to dataframe\n",
    "toronto_onehot = pd.concat([toronto_venues[['Neighborhood']], toronto_dummies], axis=1)\n",
    "\n",
    "toronto_onehot.head()"
   ]
  },
  {
   "cell_type": "code",
   "execution_count": null,
   "metadata": {},
   "outputs": [],
   "source": [
    "toronto_grouped = toronto_onehot.groupby('Neighborhood').mean().reset_index()\n",
    "\n",
    "toronto_grouped.shape"
   ]
  },
  {
   "cell_type": "code",
   "execution_count": null,
   "metadata": {},
   "outputs": [],
   "source": [
    "toronto_grouped[toronto_grouped['Neighborhood'] == 'Agincourt'].T.reset_index()"
   ]
  },
  {
   "cell_type": "markdown",
   "metadata": {},
   "source": [
    "Print each neighborhood along with the top 5 most common venues"
   ]
  },
  {
   "cell_type": "code",
   "execution_count": null,
   "metadata": {},
   "outputs": [],
   "source": [
    "num_top_venues = 5\n",
    "\n",
    "for hood in toronto_grouped['Neighborhood']:\n",
    "    print('---' + hood + '----')\n",
    "    temp = toronto_grouped[toronto_grouped['Neighborhood'] == hood].T.reset_index()\n",
    "    temp.columns = ['venue', 'freq']\n",
    "    temp = temp.iloc[1:]\n",
    "    temp['freq'] = temp['freq'].astype(float)\n",
    "    temp = temp.round({'freq': 2})\n",
    "    print(temp.sort_values('freq', ascending=False).reset_index(drop=True).head(num_top_venues))\n",
    "    print('\\n')"
   ]
  },
  {
   "cell_type": "markdown",
   "metadata": {},
   "source": [
    "Put the data into a pandas data frame"
   ]
  },
  {
   "cell_type": "code",
   "execution_count": null,
   "metadata": {},
   "outputs": [],
   "source": [
    "def return_most_common_venues(row, num_top_venues):\n",
    "    row_categories = row.iloc[1:]\n",
    "    row_categories_sorted = row_categories.sort_values(ascending=False)\n",
    "    \n",
    "    return row_categories_sorted.index.values[0:num_top_venues]"
   ]
  },
  {
   "cell_type": "markdown",
   "metadata": {},
   "source": [
    "Create a new data frame and display the top 10 venues for each neighborhood"
   ]
  },
  {
   "cell_type": "code",
   "execution_count": null,
   "metadata": {},
   "outputs": [],
   "source": [
    "num_top_venues = 10\n",
    "\n",
    "indicators = ['st', 'nd', 'rd']\n",
    "\n",
    "# Create columns according to number of top venues\n",
    "columns = ['Neighborhood']\n",
    "for ind in np.arange(num_top_venues):\n",
    "    try:\n",
    "        columns.append(f'{ind+1}{indicators[ind]} Most Common Venue')\n",
    "    except:\n",
    "        columns.append(f'{ind+1}th Most Common Venue')\n",
    "\n",
    "# Create a new dataframe\n",
    "neighborhoods_venues_sorted = pd.DataFrame(columns=columns)\n",
    "neighborhoods_venues_sorted['Neighborhood'] = toronto_grouped['Neighborhood']\n",
    "\n",
    "for ind in np.arange(toronto_grouped.shape[0]):\n",
    "    neighborhoods_venues_sorted.iloc[ind, 1:] = return_most_common_venues(toronto_grouped.iloc[ind, :],\n",
    "                                                                          num_top_venues)\n",
    "\n",
    "neighborhoods_venues_sorted.head()"
   ]
  },
  {
   "cell_type": "markdown",
   "metadata": {},
   "source": [
    "Run k-means to cluster the neighborhood into 5 clusters"
   ]
  },
  {
   "cell_type": "code",
   "execution_count": null,
   "metadata": {},
   "outputs": [],
   "source": [
    "# Set number of clusters\n",
    "kclusters = 5\n",
    "\n",
    "toronto_grouped_clustering = toronto_grouped.drop('Neighborhood', axis=1)\n",
    "\n",
    "# Run k-means clustering\n",
    "kmeans = KMeans(n_clusters=kclusters, random_state=42)\n",
    "kmeans.fit(toronto_grouped_clustering)\n",
    "\n",
    "# Check cluster labels generated for each row in the dataframe\n",
    "kmeans.labels_"
   ]
  },
  {
   "cell_type": "markdown",
   "metadata": {},
   "source": [
    "Create a new data frame that includes the cluster as well as the top 10 venues for each neighborhood"
   ]
  },
  {
   "cell_type": "code",
   "execution_count": null,
   "metadata": {},
   "outputs": [],
   "source": [
    "# Add clustering labels\n",
    "neighborhoods_venues_sorted.insert(0, 'Cluster Labels', kmeans.labels_)\n",
    "\n",
    "toronto_merged = df_combined\n",
    "\n",
    "# Merge toronto_grouped with df_combined to add latitude / longitude for each neighborhood\n",
    "toronto_merged = toronto_merged.join(neighborhoods_venues_sorted.set_index('Neighborhood'),\n",
    "                                     on='Neighborhood', how='right')\n",
    "\n",
    "toronto_merged.head()"
   ]
  },
  {
   "cell_type": "markdown",
   "metadata": {},
   "source": [
    "Visualize the resulting clusters"
   ]
  },
  {
   "cell_type": "code",
   "execution_count": null,
   "metadata": {},
   "outputs": [],
   "source": [
    "# Create map\n",
    "map_clusters = folium.Map(location=[latitude, longitude], zoom_start=11)\n",
    "\n",
    "# Set color scheme for the clusters\n",
    "x = np.arange(kclusters)\n",
    "ys = [i + x + (i*x)**2 for i in range(kclusters)]\n",
    "colors_array = cm.rainbow(np.linspace(0, 1, len(ys)))\n",
    "rainbow = [colors.rgb2hex(i) for i in colors_array]\n",
    "\n",
    "# Add markers to the map\n",
    "markers_colors = []\n",
    "for lat, lon, poi, cluster in zip(toronto_merged['Latitude'], toronto_merged['Longitude'],\n",
    "                                  toronto_merged['Neighborhood'], toronto_merged['Cluster Labels']):\n",
    "    label = folium.Popup(str(poi) + ' Cluster ' + str(cluster), parse_html=True)\n",
    "    folium.CircleMarker(\n",
    "        [lat, lon],\n",
    "        radius=5,\n",
    "        popup=label,\n",
    "        color=rainbow[int(cluster)-1],\n",
    "        fill=True,\n",
    "        fill_color=rainbow[int(cluster)-1],\n",
    "        fill_opacity=0.7\n",
    "        ).add_to(map_clusters)\n",
    "       \n",
    "map_clusters"
   ]
  }
 ],
 "metadata": {
  "kernelspec": {
   "display_name": "course_env",
   "language": "python",
   "name": "course_env"
  },
  "language_info": {
   "codemirror_mode": {
    "name": "ipython",
    "version": 3
   },
   "file_extension": ".py",
   "mimetype": "text/x-python",
   "name": "python",
   "nbconvert_exporter": "python",
   "pygments_lexer": "ipython3",
   "version": "3.8.3"
  }
 },
 "nbformat": 4,
 "nbformat_minor": 2
}
